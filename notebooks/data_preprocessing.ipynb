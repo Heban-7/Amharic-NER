{
 "cells": [
  {
   "cell_type": "markdown",
   "metadata": {},
   "source": [
    "# Data Preprocessing"
   ]
  },
  {
   "cell_type": "code",
   "execution_count": 1,
   "metadata": {},
   "outputs": [],
   "source": [
    "# Install basic packages\n",
    "import os, sys\n",
    "import pandas as pd\n",
    "import numpy as np\n",
    "import matplotlib.pyplot as plt\n",
    "import seaborn as sns\n",
    "import warnings\n",
    "warnings.filterwarnings(\"ignore\")"
   ]
  },
  {
   "cell_type": "code",
   "execution_count": 2,
   "metadata": {},
   "outputs": [],
   "source": [
    "# Get working directory\n",
    "sys.path.append(os.path.abspath('..'))"
   ]
  },
  {
   "cell_type": "code",
   "execution_count": 3,
   "metadata": {},
   "outputs": [],
   "source": [
    "from scripts.data_preprocessing import remove_emojis, remove_urls, normalize_text"
   ]
  },
  {
   "cell_type": "markdown",
   "metadata": {},
   "source": [
    "## Load the scraped data\n",
    "\n",
    "**The Data is fetched from two Etiopian-based Telegram e-commerce channels**\n",
    "\n",
    "Telegram Channels\n",
    "* `t.me/gebeyaadama`\n",
    "* `t.me/ethio_brand_collection`"
   ]
  },
  {
   "cell_type": "code",
   "execution_count": 4,
   "metadata": {},
   "outputs": [
    {
     "name": "stdout",
     "output_type": "stream",
     "text": [
      "Shape of the scraped data is: (6729, 6)\n"
     ]
    }
   ],
   "source": [
    "data = pd.read_csv('../data/telegram_data.csv')\n",
    "print(f\"Shape of the scraped data is: {data.shape}\")"
   ]
  },
  {
   "cell_type": "markdown",
   "metadata": {},
   "source": [
    "**Data pre**"
   ]
  },
  {
   "cell_type": "code",
   "execution_count": 5,
   "metadata": {},
   "outputs": [
    {
     "data": {
      "text/html": [
       "<div>\n",
       "<style scoped>\n",
       "    .dataframe tbody tr th:only-of-type {\n",
       "        vertical-align: middle;\n",
       "    }\n",
       "\n",
       "    .dataframe tbody tr th {\n",
       "        vertical-align: top;\n",
       "    }\n",
       "\n",
       "    .dataframe thead th {\n",
       "        text-align: right;\n",
       "    }\n",
       "</style>\n",
       "<table border=\"1\" class=\"dataframe\">\n",
       "  <thead>\n",
       "    <tr style=\"text-align: right;\">\n",
       "      <th></th>\n",
       "      <th>Channel Title</th>\n",
       "      <th>Channel Username</th>\n",
       "      <th>Message Id</th>\n",
       "      <th>Message Text</th>\n",
       "      <th>Message Date</th>\n",
       "      <th>Media Path</th>\n",
       "    </tr>\n",
       "  </thead>\n",
       "  <tbody>\n",
       "    <tr>\n",
       "      <th>0</th>\n",
       "      <td>አዳማ ገበያ - Adama gebeya</td>\n",
       "      <td>@gebeyaadama</td>\n",
       "      <td>4310</td>\n",
       "      <td>✅ nipple shield \\n\\n✅የእናት ጡት ጫፍ ማራዘሚያ\\n\\n     ...</td>\n",
       "      <td>2025-01-17 10:32:58+00:00</td>\n",
       "      <td>../data/photos\\@gebeyaadama_4310.jpg</td>\n",
       "    </tr>\n",
       "    <tr>\n",
       "      <th>1</th>\n",
       "      <td>አዳማ ገበያ - Adama gebeya</td>\n",
       "      <td>@gebeyaadama</td>\n",
       "      <td>4309</td>\n",
       "      <td>Marc Jacob 3 in 1 glasses</td>\n",
       "      <td>2025-01-16 08:37:21+00:00</td>\n",
       "      <td>NaN</td>\n",
       "    </tr>\n",
       "    <tr>\n",
       "      <th>2</th>\n",
       "      <td>አዳማ ገበያ - Adama gebeya</td>\n",
       "      <td>@gebeyaadama</td>\n",
       "      <td>4308</td>\n",
       "      <td>NaN</td>\n",
       "      <td>2025-01-16 08:21:17+00:00</td>\n",
       "      <td>../data/photos\\@gebeyaadama_4308.jpg</td>\n",
       "    </tr>\n",
       "    <tr>\n",
       "      <th>3</th>\n",
       "      <td>አዳማ ገበያ - Adama gebeya</td>\n",
       "      <td>@gebeyaadama</td>\n",
       "      <td>4307</td>\n",
       "      <td>NaN</td>\n",
       "      <td>2025-01-16 08:21:16+00:00</td>\n",
       "      <td>../data/photos\\@gebeyaadama_4307.jpg</td>\n",
       "    </tr>\n",
       "    <tr>\n",
       "      <th>4</th>\n",
       "      <td>አዳማ ገበያ - Adama gebeya</td>\n",
       "      <td>@gebeyaadama</td>\n",
       "      <td>4306</td>\n",
       "      <td>✅ Marc Jacob 3 in 1 sunglass\\n\\n👉3 መነፀር በ 1 የያ...</td>\n",
       "      <td>2025-01-16 08:21:16+00:00</td>\n",
       "      <td>../data/photos\\@gebeyaadama_4306.jpg</td>\n",
       "    </tr>\n",
       "  </tbody>\n",
       "</table>\n",
       "</div>"
      ],
      "text/plain": [
       "            Channel Title Channel Username  Message Id  \\\n",
       "0  አዳማ ገበያ - Adama gebeya     @gebeyaadama        4310   \n",
       "1  አዳማ ገበያ - Adama gebeya     @gebeyaadama        4309   \n",
       "2  አዳማ ገበያ - Adama gebeya     @gebeyaadama        4308   \n",
       "3  አዳማ ገበያ - Adama gebeya     @gebeyaadama        4307   \n",
       "4  አዳማ ገበያ - Adama gebeya     @gebeyaadama        4306   \n",
       "\n",
       "                                        Message Text  \\\n",
       "0  ✅ nipple shield \\n\\n✅የእናት ጡት ጫፍ ማራዘሚያ\\n\\n     ...   \n",
       "1                          Marc Jacob 3 in 1 glasses   \n",
       "2                                                NaN   \n",
       "3                                                NaN   \n",
       "4  ✅ Marc Jacob 3 in 1 sunglass\\n\\n👉3 መነፀር በ 1 የያ...   \n",
       "\n",
       "                Message Date                            Media Path  \n",
       "0  2025-01-17 10:32:58+00:00  ../data/photos\\@gebeyaadama_4310.jpg  \n",
       "1  2025-01-16 08:37:21+00:00                                   NaN  \n",
       "2  2025-01-16 08:21:17+00:00  ../data/photos\\@gebeyaadama_4308.jpg  \n",
       "3  2025-01-16 08:21:16+00:00  ../data/photos\\@gebeyaadama_4307.jpg  \n",
       "4  2025-01-16 08:21:16+00:00  ../data/photos\\@gebeyaadama_4306.jpg  "
      ]
     },
     "execution_count": 5,
     "metadata": {},
     "output_type": "execute_result"
    }
   ],
   "source": [
    "data.head()"
   ]
  },
  {
   "cell_type": "code",
   "execution_count": 6,
   "metadata": {},
   "outputs": [
    {
     "data": {
      "text/html": [
       "<div>\n",
       "<style scoped>\n",
       "    .dataframe tbody tr th:only-of-type {\n",
       "        vertical-align: middle;\n",
       "    }\n",
       "\n",
       "    .dataframe tbody tr th {\n",
       "        vertical-align: top;\n",
       "    }\n",
       "\n",
       "    .dataframe thead th {\n",
       "        text-align: right;\n",
       "    }\n",
       "</style>\n",
       "<table border=\"1\" class=\"dataframe\">\n",
       "  <thead>\n",
       "    <tr style=\"text-align: right;\">\n",
       "      <th></th>\n",
       "      <th>Channel Title</th>\n",
       "      <th>Channel Username</th>\n",
       "      <th>Message Text</th>\n",
       "      <th>Message Date</th>\n",
       "      <th>Media Path</th>\n",
       "    </tr>\n",
       "  </thead>\n",
       "  <tbody>\n",
       "    <tr>\n",
       "      <th>count</th>\n",
       "      <td>6729</td>\n",
       "      <td>6729</td>\n",
       "      <td>5691</td>\n",
       "      <td>6729</td>\n",
       "      <td>5637</td>\n",
       "    </tr>\n",
       "    <tr>\n",
       "      <th>unique</th>\n",
       "      <td>2</td>\n",
       "      <td>2</td>\n",
       "      <td>3637</td>\n",
       "      <td>5413</td>\n",
       "      <td>5637</td>\n",
       "    </tr>\n",
       "    <tr>\n",
       "      <th>top</th>\n",
       "      <td>አዳማ ገበያ - Adama gebeya</td>\n",
       "      <td>@gebeyaadama</td>\n",
       "      <td>፧  ተሽጦ አልቋል ፧\\n\" Sold out \"</td>\n",
       "      <td>2017-11-05 05:23:43+00:00</td>\n",
       "      <td>../data/photos\\@ethio_brand_collection_2.jpg</td>\n",
       "    </tr>\n",
       "    <tr>\n",
       "      <th>freq</th>\n",
       "      <td>3544</td>\n",
       "      <td>3544</td>\n",
       "      <td>103</td>\n",
       "      <td>24</td>\n",
       "      <td>1</td>\n",
       "    </tr>\n",
       "  </tbody>\n",
       "</table>\n",
       "</div>"
      ],
      "text/plain": [
       "                 Channel Title Channel Username                 Message Text  \\\n",
       "count                     6729             6729                         5691   \n",
       "unique                       2                2                         3637   \n",
       "top     አዳማ ገበያ - Adama gebeya     @gebeyaadama  ፧  ተሽጦ አልቋል ፧\\n\" Sold out \"   \n",
       "freq                      3544             3544                          103   \n",
       "\n",
       "                     Message Date  \\\n",
       "count                        6729   \n",
       "unique                       5413   \n",
       "top     2017-11-05 05:23:43+00:00   \n",
       "freq                           24   \n",
       "\n",
       "                                          Media Path  \n",
       "count                                           5637  \n",
       "unique                                          5637  \n",
       "top     ../data/photos\\@ethio_brand_collection_2.jpg  \n",
       "freq                                               1  "
      ]
     },
     "execution_count": 6,
     "metadata": {},
     "output_type": "execute_result"
    }
   ],
   "source": [
    "data.describe(include='object')"
   ]
  },
  {
   "cell_type": "code",
   "execution_count": 7,
   "metadata": {},
   "outputs": [
    {
     "data": {
      "text/plain": [
       "0    ✅ nipple shield \\n\\n✅የእናት ጡት ጫፍ ማራዘሚያ\\n\\n     ...\n",
       "1                            Marc Jacob 3 in 1 glasses\n",
       "2                                                  NaN\n",
       "3                                                  NaN\n",
       "4    ✅ Marc Jacob 3 in 1 sunglass\\n\\n👉3 መነፀር በ 1 የያ...\n",
       "5                                   Door Bottom Sealer\n",
       "6    🎯 Door Bottom Sealer\\n\\n👍 አየር ከውጭ ወደ ቤት ውስጥ እን...\n",
       "7                                                  NaN\n",
       "8                                                  NaN\n",
       "9                                                  NaN\n",
       "Name: Message Text, dtype: object"
      ]
     },
     "execution_count": 7,
     "metadata": {},
     "output_type": "execute_result"
    }
   ],
   "source": [
    "data['Message Text'].head(10)"
   ]
  },
  {
   "cell_type": "markdown",
   "metadata": {},
   "source": [
    "## Data Preprocessing "
   ]
  },
  {
   "cell_type": "markdown",
   "metadata": {},
   "source": [
    "1. **Handle missing value in `Message Text` column**"
   ]
  },
  {
   "cell_type": "code",
   "execution_count": 8,
   "metadata": {},
   "outputs": [
    {
     "name": "stdout",
     "output_type": "stream",
     "text": [
      "Number of missing values in the 'Message Text' column: 1038\n"
     ]
    }
   ],
   "source": [
    "nan_count = data['Message Text'].isna().sum()\n",
    "print(f\"Number of missing values in the 'Message Text' column: {nan_count}\")"
   ]
  },
  {
   "cell_type": "markdown",
   "metadata": {},
   "source": [
    "**Drop missing raw**"
   ]
  },
  {
   "cell_type": "code",
   "execution_count": 9,
   "metadata": {},
   "outputs": [
    {
     "name": "stdout",
     "output_type": "stream",
     "text": [
      "Shape of the scraped data after removing missing values: (5691, 6)\n"
     ]
    }
   ],
   "source": [
    "data = data.dropna(subset=['Message Text'])\n",
    "print(f\"Shape of the scraped data after removing missing values: {data.shape}\")"
   ]
  },
  {
   "cell_type": "code",
   "execution_count": 10,
   "metadata": {},
   "outputs": [
    {
     "data": {
      "text/html": [
       "<div>\n",
       "<style scoped>\n",
       "    .dataframe tbody tr th:only-of-type {\n",
       "        vertical-align: middle;\n",
       "    }\n",
       "\n",
       "    .dataframe tbody tr th {\n",
       "        vertical-align: top;\n",
       "    }\n",
       "\n",
       "    .dataframe thead th {\n",
       "        text-align: right;\n",
       "    }\n",
       "</style>\n",
       "<table border=\"1\" class=\"dataframe\">\n",
       "  <thead>\n",
       "    <tr style=\"text-align: right;\">\n",
       "      <th></th>\n",
       "      <th>Channel Title</th>\n",
       "      <th>Channel Username</th>\n",
       "      <th>Message Id</th>\n",
       "      <th>Message Text</th>\n",
       "      <th>Message Date</th>\n",
       "      <th>Media Path</th>\n",
       "    </tr>\n",
       "  </thead>\n",
       "  <tbody>\n",
       "    <tr>\n",
       "      <th>0</th>\n",
       "      <td>አዳማ ገበያ - Adama gebeya</td>\n",
       "      <td>@gebeyaadama</td>\n",
       "      <td>4310</td>\n",
       "      <td>✅ nipple shield \\n\\n✅የእናት ጡት ጫፍ ማራዘሚያ\\n\\n     ...</td>\n",
       "      <td>2025-01-17 10:32:58+00:00</td>\n",
       "      <td>../data/photos\\@gebeyaadama_4310.jpg</td>\n",
       "    </tr>\n",
       "    <tr>\n",
       "      <th>1</th>\n",
       "      <td>አዳማ ገበያ - Adama gebeya</td>\n",
       "      <td>@gebeyaadama</td>\n",
       "      <td>4309</td>\n",
       "      <td>Marc Jacob 3 in 1 glasses</td>\n",
       "      <td>2025-01-16 08:37:21+00:00</td>\n",
       "      <td>NaN</td>\n",
       "    </tr>\n",
       "    <tr>\n",
       "      <th>4</th>\n",
       "      <td>አዳማ ገበያ - Adama gebeya</td>\n",
       "      <td>@gebeyaadama</td>\n",
       "      <td>4306</td>\n",
       "      <td>✅ Marc Jacob 3 in 1 sunglass\\n\\n👉3 መነፀር በ 1 የያ...</td>\n",
       "      <td>2025-01-16 08:21:16+00:00</td>\n",
       "      <td>../data/photos\\@gebeyaadama_4306.jpg</td>\n",
       "    </tr>\n",
       "    <tr>\n",
       "      <th>5</th>\n",
       "      <td>አዳማ ገበያ - Adama gebeya</td>\n",
       "      <td>@gebeyaadama</td>\n",
       "      <td>4304</td>\n",
       "      <td>Door Bottom Sealer</td>\n",
       "      <td>2025-01-13 09:16:50+00:00</td>\n",
       "      <td>NaN</td>\n",
       "    </tr>\n",
       "    <tr>\n",
       "      <th>6</th>\n",
       "      <td>አዳማ ገበያ - Adama gebeya</td>\n",
       "      <td>@gebeyaadama</td>\n",
       "      <td>4303</td>\n",
       "      <td>🎯 Door Bottom Sealer\\n\\n👍 አየር ከውጭ ወደ ቤት ውስጥ እን...</td>\n",
       "      <td>2025-01-13 09:16:45+00:00</td>\n",
       "      <td>../data/photos\\@gebeyaadama_4303.jpg</td>\n",
       "    </tr>\n",
       "  </tbody>\n",
       "</table>\n",
       "</div>"
      ],
      "text/plain": [
       "            Channel Title Channel Username  Message Id  \\\n",
       "0  አዳማ ገበያ - Adama gebeya     @gebeyaadama        4310   \n",
       "1  አዳማ ገበያ - Adama gebeya     @gebeyaadama        4309   \n",
       "4  አዳማ ገበያ - Adama gebeya     @gebeyaadama        4306   \n",
       "5  አዳማ ገበያ - Adama gebeya     @gebeyaadama        4304   \n",
       "6  አዳማ ገበያ - Adama gebeya     @gebeyaadama        4303   \n",
       "\n",
       "                                        Message Text  \\\n",
       "0  ✅ nipple shield \\n\\n✅የእናት ጡት ጫፍ ማራዘሚያ\\n\\n     ...   \n",
       "1                          Marc Jacob 3 in 1 glasses   \n",
       "4  ✅ Marc Jacob 3 in 1 sunglass\\n\\n👉3 መነፀር በ 1 የያ...   \n",
       "5                                 Door Bottom Sealer   \n",
       "6  🎯 Door Bottom Sealer\\n\\n👍 አየር ከውጭ ወደ ቤት ውስጥ እን...   \n",
       "\n",
       "                Message Date                            Media Path  \n",
       "0  2025-01-17 10:32:58+00:00  ../data/photos\\@gebeyaadama_4310.jpg  \n",
       "1  2025-01-16 08:37:21+00:00                                   NaN  \n",
       "4  2025-01-16 08:21:16+00:00  ../data/photos\\@gebeyaadama_4306.jpg  \n",
       "5  2025-01-13 09:16:50+00:00                                   NaN  \n",
       "6  2025-01-13 09:16:45+00:00  ../data/photos\\@gebeyaadama_4303.jpg  "
      ]
     },
     "execution_count": 10,
     "metadata": {},
     "output_type": "execute_result"
    }
   ],
   "source": [
    "data.head()"
   ]
  },
  {
   "cell_type": "markdown",
   "metadata": {},
   "source": [
    "**Remove emojis from the 'Message Text'**"
   ]
  },
  {
   "cell_type": "code",
   "execution_count": 11,
   "metadata": {},
   "outputs": [],
   "source": [
    "data['Message Text'] = data['Message Text'].apply(remove_emojis)"
   ]
  },
  {
   "cell_type": "code",
   "execution_count": 12,
   "metadata": {},
   "outputs": [
    {
     "data": {
      "text/html": [
       "<div>\n",
       "<style scoped>\n",
       "    .dataframe tbody tr th:only-of-type {\n",
       "        vertical-align: middle;\n",
       "    }\n",
       "\n",
       "    .dataframe tbody tr th {\n",
       "        vertical-align: top;\n",
       "    }\n",
       "\n",
       "    .dataframe thead th {\n",
       "        text-align: right;\n",
       "    }\n",
       "</style>\n",
       "<table border=\"1\" class=\"dataframe\">\n",
       "  <thead>\n",
       "    <tr style=\"text-align: right;\">\n",
       "      <th></th>\n",
       "      <th>Channel Title</th>\n",
       "      <th>Channel Username</th>\n",
       "      <th>Message Id</th>\n",
       "      <th>Message Text</th>\n",
       "      <th>Message Date</th>\n",
       "      <th>Media Path</th>\n",
       "    </tr>\n",
       "  </thead>\n",
       "  <tbody>\n",
       "    <tr>\n",
       "      <th>0</th>\n",
       "      <td>አዳማ ገበያ - Adama gebeya</td>\n",
       "      <td>@gebeyaadama</td>\n",
       "      <td>4310</td>\n",
       "      <td>nipple shield \\n\\nየእናት ጡት ጫፍ ማራዘሚያ\\n\\n     ዋጋ...</td>\n",
       "      <td>2025-01-17 10:32:58+00:00</td>\n",
       "      <td>../data/photos\\@gebeyaadama_4310.jpg</td>\n",
       "    </tr>\n",
       "    <tr>\n",
       "      <th>1</th>\n",
       "      <td>አዳማ ገበያ - Adama gebeya</td>\n",
       "      <td>@gebeyaadama</td>\n",
       "      <td>4309</td>\n",
       "      <td>Marc Jacob 3 in 1 glasses</td>\n",
       "      <td>2025-01-16 08:37:21+00:00</td>\n",
       "      <td>NaN</td>\n",
       "    </tr>\n",
       "    <tr>\n",
       "      <th>4</th>\n",
       "      <td>አዳማ ገበያ - Adama gebeya</td>\n",
       "      <td>@gebeyaadama</td>\n",
       "      <td>4306</td>\n",
       "      <td>Marc Jacob 3 in 1 sunglass\\n\\n3 መነፀር በ 1 የያዘ\\...</td>\n",
       "      <td>2025-01-16 08:21:16+00:00</td>\n",
       "      <td>../data/photos\\@gebeyaadama_4306.jpg</td>\n",
       "    </tr>\n",
       "    <tr>\n",
       "      <th>5</th>\n",
       "      <td>አዳማ ገበያ - Adama gebeya</td>\n",
       "      <td>@gebeyaadama</td>\n",
       "      <td>4304</td>\n",
       "      <td>Door Bottom Sealer</td>\n",
       "      <td>2025-01-13 09:16:50+00:00</td>\n",
       "      <td>NaN</td>\n",
       "    </tr>\n",
       "    <tr>\n",
       "      <th>6</th>\n",
       "      <td>አዳማ ገበያ - Adama gebeya</td>\n",
       "      <td>@gebeyaadama</td>\n",
       "      <td>4303</td>\n",
       "      <td>Door Bottom Sealer\\n\\n አየር ከውጭ ወደ ቤት ውስጥ እንዳይ...</td>\n",
       "      <td>2025-01-13 09:16:45+00:00</td>\n",
       "      <td>../data/photos\\@gebeyaadama_4303.jpg</td>\n",
       "    </tr>\n",
       "  </tbody>\n",
       "</table>\n",
       "</div>"
      ],
      "text/plain": [
       "            Channel Title Channel Username  Message Id  \\\n",
       "0  አዳማ ገበያ - Adama gebeya     @gebeyaadama        4310   \n",
       "1  አዳማ ገበያ - Adama gebeya     @gebeyaadama        4309   \n",
       "4  አዳማ ገበያ - Adama gebeya     @gebeyaadama        4306   \n",
       "5  አዳማ ገበያ - Adama gebeya     @gebeyaadama        4304   \n",
       "6  አዳማ ገበያ - Adama gebeya     @gebeyaadama        4303   \n",
       "\n",
       "                                        Message Text  \\\n",
       "0   nipple shield \\n\\nየእናት ጡት ጫፍ ማራዘሚያ\\n\\n     ዋጋ...   \n",
       "1                          Marc Jacob 3 in 1 glasses   \n",
       "4   Marc Jacob 3 in 1 sunglass\\n\\n3 መነፀር በ 1 የያዘ\\...   \n",
       "5                                 Door Bottom Sealer   \n",
       "6   Door Bottom Sealer\\n\\n አየር ከውጭ ወደ ቤት ውስጥ እንዳይ...   \n",
       "\n",
       "                Message Date                            Media Path  \n",
       "0  2025-01-17 10:32:58+00:00  ../data/photos\\@gebeyaadama_4310.jpg  \n",
       "1  2025-01-16 08:37:21+00:00                                   NaN  \n",
       "4  2025-01-16 08:21:16+00:00  ../data/photos\\@gebeyaadama_4306.jpg  \n",
       "5  2025-01-13 09:16:50+00:00                                   NaN  \n",
       "6  2025-01-13 09:16:45+00:00  ../data/photos\\@gebeyaadama_4303.jpg  "
      ]
     },
     "execution_count": 12,
     "metadata": {},
     "output_type": "execute_result"
    }
   ],
   "source": [
    "data.head()"
   ]
  },
  {
   "cell_type": "markdown",
   "metadata": {},
   "source": [
    "**Remove URLs**"
   ]
  },
  {
   "cell_type": "code",
   "execution_count": 13,
   "metadata": {},
   "outputs": [],
   "source": [
    "data['Message Text'] = data['Message Text'].apply(remove_urls)"
   ]
  },
  {
   "cell_type": "markdown",
   "metadata": {},
   "source": [
    "**Remove extra white space**"
   ]
  },
  {
   "cell_type": "code",
   "execution_count": 14,
   "metadata": {},
   "outputs": [],
   "source": [
    "data['Message Text'] = data['Message Text'].str.strip().replace(r'\\s+', ' ', regex=True)"
   ]
  },
  {
   "cell_type": "markdown",
   "metadata": {},
   "source": [
    "**Normalize text**\n",
    "* In Amharic Language it have alphaphetical redundance "
   ]
  },
  {
   "cell_type": "code",
   "execution_count": 15,
   "metadata": {},
   "outputs": [],
   "source": [
    "data['Message Text'] = data['Message Text'].apply(normalize_text)"
   ]
  },
  {
   "cell_type": "code",
   "execution_count": 16,
   "metadata": {},
   "outputs": [
    {
     "data": {
      "text/html": [
       "<div>\n",
       "<style scoped>\n",
       "    .dataframe tbody tr th:only-of-type {\n",
       "        vertical-align: middle;\n",
       "    }\n",
       "\n",
       "    .dataframe tbody tr th {\n",
       "        vertical-align: top;\n",
       "    }\n",
       "\n",
       "    .dataframe thead th {\n",
       "        text-align: right;\n",
       "    }\n",
       "</style>\n",
       "<table border=\"1\" class=\"dataframe\">\n",
       "  <thead>\n",
       "    <tr style=\"text-align: right;\">\n",
       "      <th></th>\n",
       "      <th>Channel Title</th>\n",
       "      <th>Channel Username</th>\n",
       "      <th>Message Id</th>\n",
       "      <th>Message Text</th>\n",
       "      <th>Message Date</th>\n",
       "      <th>Media Path</th>\n",
       "    </tr>\n",
       "  </thead>\n",
       "  <tbody>\n",
       "    <tr>\n",
       "      <th>0</th>\n",
       "      <td>አዳማ ገበያ - Adama gebeya</td>\n",
       "      <td>@gebeyaadama</td>\n",
       "      <td>4310</td>\n",
       "      <td>nipple shield የእናት ጡት ጫፍ ማራዘሚያ ዋጋ 450 ብር 09117...</td>\n",
       "      <td>2025-01-17 10:32:58+00:00</td>\n",
       "      <td>../data/photos\\@gebeyaadama_4310.jpg</td>\n",
       "    </tr>\n",
       "    <tr>\n",
       "      <th>1</th>\n",
       "      <td>አዳማ ገበያ - Adama gebeya</td>\n",
       "      <td>@gebeyaadama</td>\n",
       "      <td>4309</td>\n",
       "      <td>Marc Jacob 3 in 1 glasses</td>\n",
       "      <td>2025-01-16 08:37:21+00:00</td>\n",
       "      <td>NaN</td>\n",
       "    </tr>\n",
       "    <tr>\n",
       "      <th>4</th>\n",
       "      <td>አዳማ ገበያ - Adama gebeya</td>\n",
       "      <td>@gebeyaadama</td>\n",
       "      <td>4306</td>\n",
       "      <td>Marc Jacob 3 in 1 sunglass 3 መነፀር በ 1 የያዘ 1 ከስ...</td>\n",
       "      <td>2025-01-16 08:21:16+00:00</td>\n",
       "      <td>../data/photos\\@gebeyaadama_4306.jpg</td>\n",
       "    </tr>\n",
       "    <tr>\n",
       "      <th>5</th>\n",
       "      <td>አዳማ ገበያ - Adama gebeya</td>\n",
       "      <td>@gebeyaadama</td>\n",
       "      <td>4304</td>\n",
       "      <td>Door Bottom Sealer</td>\n",
       "      <td>2025-01-13 09:16:50+00:00</td>\n",
       "      <td>NaN</td>\n",
       "    </tr>\n",
       "    <tr>\n",
       "      <th>6</th>\n",
       "      <td>አዳማ ገበያ - Adama gebeya</td>\n",
       "      <td>@gebeyaadama</td>\n",
       "      <td>4303</td>\n",
       "      <td>Door Bottom Sealer አየር ከውጭ ወደ ቤት ውስጥ እንዳይገባ ይከ...</td>\n",
       "      <td>2025-01-13 09:16:45+00:00</td>\n",
       "      <td>../data/photos\\@gebeyaadama_4303.jpg</td>\n",
       "    </tr>\n",
       "  </tbody>\n",
       "</table>\n",
       "</div>"
      ],
      "text/plain": [
       "            Channel Title Channel Username  Message Id  \\\n",
       "0  አዳማ ገበያ - Adama gebeya     @gebeyaadama        4310   \n",
       "1  አዳማ ገበያ - Adama gebeya     @gebeyaadama        4309   \n",
       "4  አዳማ ገበያ - Adama gebeya     @gebeyaadama        4306   \n",
       "5  አዳማ ገበያ - Adama gebeya     @gebeyaadama        4304   \n",
       "6  አዳማ ገበያ - Adama gebeya     @gebeyaadama        4303   \n",
       "\n",
       "                                        Message Text  \\\n",
       "0  nipple shield የእናት ጡት ጫፍ ማራዘሚያ ዋጋ 450 ብር 09117...   \n",
       "1                          Marc Jacob 3 in 1 glasses   \n",
       "4  Marc Jacob 3 in 1 sunglass 3 መነፀር በ 1 የያዘ 1 ከስ...   \n",
       "5                                 Door Bottom Sealer   \n",
       "6  Door Bottom Sealer አየር ከውጭ ወደ ቤት ውስጥ እንዳይገባ ይከ...   \n",
       "\n",
       "                Message Date                            Media Path  \n",
       "0  2025-01-17 10:32:58+00:00  ../data/photos\\@gebeyaadama_4310.jpg  \n",
       "1  2025-01-16 08:37:21+00:00                                   NaN  \n",
       "4  2025-01-16 08:21:16+00:00  ../data/photos\\@gebeyaadama_4306.jpg  \n",
       "5  2025-01-13 09:16:50+00:00                                   NaN  \n",
       "6  2025-01-13 09:16:45+00:00  ../data/photos\\@gebeyaadama_4303.jpg  "
      ]
     },
     "execution_count": 16,
     "metadata": {},
     "output_type": "execute_result"
    }
   ],
   "source": [
    "data.head()"
   ]
  },
  {
   "cell_type": "markdown",
   "metadata": {},
   "source": [
    "**Save preprocessed data to a new CSV file**"
   ]
  },
  {
   "cell_type": "code",
   "execution_count": 17,
   "metadata": {},
   "outputs": [
    {
     "name": "stdout",
     "output_type": "stream",
     "text": [
      "Preprocessed data saved to: ../data/preprocessed_telegram_data.csv\n"
     ]
    }
   ],
   "source": [
    "preprocessed_file_path = '../data/preprocessed_telegram_data.csv'\n",
    "data.to_csv(preprocessed_file_path, index=False, encoding='utf-8')\n",
    "\n",
    "print(f\"Preprocessed data saved to: {preprocessed_file_path}\")"
   ]
  }
 ],
 "metadata": {
  "kernelspec": {
   "display_name": ".venv",
   "language": "python",
   "name": "python3"
  },
  "language_info": {
   "codemirror_mode": {
    "name": "ipython",
    "version": 3
   },
   "file_extension": ".py",
   "mimetype": "text/x-python",
   "name": "python",
   "nbconvert_exporter": "python",
   "pygments_lexer": "ipython3",
   "version": "3.13.1"
  }
 },
 "nbformat": 4,
 "nbformat_minor": 2
}
